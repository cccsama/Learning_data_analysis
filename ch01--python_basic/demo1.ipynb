{
 "cells": [
  {
   "cell_type": "code",
   "execution_count": 125,
   "id": "634af898-9924-40c6-bffd-d6fa0e22c0ad",
   "metadata": {},
   "outputs": [],
   "source": [
    "b = [1,2,3]"
   ]
  },
  {
   "cell_type": "code",
   "execution_count": 126,
   "id": "253d77cd",
   "metadata": {},
   "outputs": [],
   "source": [
    "a = 5\n",
    "b = 6\n",
    "c = 7"
   ]
  },
  {
   "cell_type": "code",
   "execution_count": 127,
   "id": "2e371bec",
   "metadata": {},
   "outputs": [],
   "source": [
    "a_list = [\"foo\", 2, [3,4]]"
   ]
  },
  {
   "cell_type": "code",
   "execution_count": 128,
   "id": "034f6b7d",
   "metadata": {},
   "outputs": [],
   "source": [
    "a_list[2] = (1,4)"
   ]
  },
  {
   "cell_type": "code",
   "execution_count": 129,
   "id": "89a3a3ba",
   "metadata": {},
   "outputs": [
    {
     "data": {
      "text/plain": [
       "['foo', 2, (1, 4)]"
      ]
     },
     "execution_count": 129,
     "metadata": {},
     "output_type": "execute_result"
    }
   ],
   "source": [
    "a_list"
   ]
  },
  {
   "cell_type": "code",
   "execution_count": 130,
   "id": "9399b416",
   "metadata": {},
   "outputs": [],
   "source": [
    "a_tuple = (3,5,(4,5))"
   ]
  },
  {
   "cell_type": "code",
   "execution_count": 131,
   "id": "04d56217",
   "metadata": {},
   "outputs": [],
   "source": [
    "ival = 11111111"
   ]
  },
  {
   "cell_type": "code",
   "execution_count": 132,
   "id": "bc024141",
   "metadata": {},
   "outputs": [
    {
     "data": {
      "text/plain": [
       "1881676310258338178650085334026072508518161"
      ]
     },
     "execution_count": 132,
     "metadata": {},
     "output_type": "execute_result"
    }
   ],
   "source": [
    "ival ** 6 "
   ]
  },
  {
   "cell_type": "code",
   "execution_count": 133,
   "id": "1556d960",
   "metadata": {},
   "outputs": [],
   "source": [
    "fval = 6.445e-5"
   ]
  },
  {
   "cell_type": "code",
   "execution_count": 134,
   "id": "7c7619e0",
   "metadata": {},
   "outputs": [
    {
     "data": {
      "text/plain": [
       "10000000.0"
      ]
     },
     "execution_count": 134,
     "metadata": {},
     "output_type": "execute_result"
    }
   ],
   "source": [
    "fval = 1e+7\n",
    "fval"
   ]
  },
  {
   "cell_type": "code",
   "execution_count": 135,
   "id": "44e6ebce",
   "metadata": {},
   "outputs": [
    {
     "data": {
      "text/plain": [
       "0.42857142857142855"
      ]
     },
     "execution_count": 135,
     "metadata": {},
     "output_type": "execute_result"
    }
   ],
   "source": [
    "3/7"
   ]
  },
  {
   "cell_type": "code",
   "execution_count": 136,
   "id": "b253f7c9",
   "metadata": {},
   "outputs": [
    {
     "data": {
      "text/plain": [
       "3"
      ]
     },
     "execution_count": 136,
     "metadata": {},
     "output_type": "execute_result"
    }
   ],
   "source": [
    "a = 'one day'\n",
    "b = 'i love you'\n",
    "c = \"\"\"\n",
    "     tom jerrt\n",
    "    dddd\n",
    "    \"\"\"\n",
    "c.count('\\n')"
   ]
  },
  {
   "cell_type": "code",
   "execution_count": 137,
   "id": "a996322d",
   "metadata": {},
   "outputs": [
    {
     "data": {
      "text/plain": [
       "'a'"
      ]
     },
     "execution_count": 137,
     "metadata": {},
     "output_type": "execute_result"
    }
   ],
   "source": [
    "a = 'this is aaaaaaa'\n",
    "a[10]"
   ]
  },
  {
   "cell_type": "code",
   "execution_count": 138,
   "id": "8f6ce763",
   "metadata": {},
   "outputs": [
    {
     "name": "stdout",
     "output_type": "stream",
     "text": [
      "this is bbbbbbb\n",
      "this is aaaaaaa\n"
     ]
    }
   ],
   "source": [
    "b= a.replace(\"a\",\"b\")\n",
    "print(b)\n",
    "print(a)"
   ]
  },
  {
   "cell_type": "code",
   "execution_count": 139,
   "id": "f9b81d26",
   "metadata": {},
   "outputs": [
    {
     "data": {
      "text/plain": [
       "['p', 'y', 't', 'h', 'o', 'n']"
      ]
     },
     "execution_count": 139,
     "metadata": {},
     "output_type": "execute_result"
    }
   ],
   "source": [
    "s = \"python\"\n",
    "list(s)"
   ]
  },
  {
   "cell_type": "code",
   "execution_count": 140,
   "id": "7befa5e7",
   "metadata": {},
   "outputs": [
    {
     "data": {
      "text/plain": [
       "'pyt'"
      ]
     },
     "execution_count": 140,
     "metadata": {},
     "output_type": "execute_result"
    }
   ],
   "source": [
    "s[:3]"
   ]
  },
  {
   "cell_type": "code",
   "execution_count": 141,
   "id": "b42f88d0",
   "metadata": {},
   "outputs": [
    {
     "name": "stdout",
     "output_type": "stream",
     "text": [
      "12\u001c\n"
     ]
    }
   ],
   "source": [
    "s = \"12\\34\"\n",
    "print(s)"
   ]
  },
  {
   "cell_type": "code",
   "execution_count": 142,
   "id": "e642da48",
   "metadata": {},
   "outputs": [
    {
     "data": {
      "text/plain": [
       "'this\\\\has\\\\no\\\\special'"
      ]
     },
     "execution_count": 142,
     "metadata": {},
     "output_type": "execute_result"
    }
   ],
   "source": [
    "s = r\"this\\has\\no\\special\"\n",
    "s"
   ]
  },
  {
   "cell_type": "code",
   "execution_count": 143,
   "id": "bedc6df2",
   "metadata": {},
   "outputs": [
    {
     "data": {
      "text/plain": [
       "'7.22个中国货币价值$1美元'"
      ]
     },
     "execution_count": 143,
     "metadata": {},
     "output_type": "execute_result"
    }
   ],
   "source": [
    "temple = \"{0:.2f}个{1:s}货币价值${2:d}美元\"\n",
    "temple.format(7.22, \"中国\", 1)"
   ]
  },
  {
   "cell_type": "code",
   "execution_count": 144,
   "id": "025b0013",
   "metadata": {},
   "outputs": [],
   "source": [
    "amount = 100\n",
    "rate = 7.11\n",
    "currency =\"人民币\"\n",
    "\n",
    "result1 = f\"{amount}个{currency}大约价值{round(amount/rate,2)}美元\""
   ]
  },
  {
   "cell_type": "code",
   "execution_count": 145,
   "id": "c503163e",
   "metadata": {},
   "outputs": [
    {
     "data": {
      "text/plain": [
       "'100个人民币大约价值14.06美元'"
      ]
     },
     "execution_count": 145,
     "metadata": {},
     "output_type": "execute_result"
    }
   ],
   "source": [
    "result1"
   ]
  },
  {
   "cell_type": "code",
   "execution_count": 146,
   "id": "88fcde71",
   "metadata": {},
   "outputs": [],
   "source": [
    "amount = 100\n",
    "rate = 101\n",
    "currency =\"日元\"\n",
    "result2 = f\"{amount}个{currency}大约价值{round(amount/rate,2)}美元\""
   ]
  },
  {
   "cell_type": "code",
   "execution_count": 147,
   "id": "b86e571f",
   "metadata": {},
   "outputs": [
    {
     "data": {
      "text/plain": [
       "'100个日元大约价值0.99美元'"
      ]
     },
     "execution_count": 147,
     "metadata": {},
     "output_type": "execute_result"
    }
   ],
   "source": [
    "result2"
   ]
  },
  {
   "cell_type": "code",
   "execution_count": 148,
   "id": "cbdbf206",
   "metadata": {},
   "outputs": [
    {
     "data": {
      "text/plain": [
       "10"
      ]
     },
     "execution_count": 148,
     "metadata": {},
     "output_type": "execute_result"
    }
   ],
   "source": [
    "from datetime import datetime, date, time\n",
    "\n",
    "dt = datetime(2011, 10, 29, 20, 30, 21)\n",
    "dt.month"
   ]
  },
  {
   "cell_type": "code",
   "execution_count": 149,
   "id": "122a963e",
   "metadata": {},
   "outputs": [
    {
     "data": {
      "text/plain": [
       "datetime.time(20, 30, 21)"
      ]
     },
     "execution_count": 149,
     "metadata": {},
     "output_type": "execute_result"
    }
   ],
   "source": [
    "dt.date()\n",
    "dt.time()"
   ]
  },
  {
   "cell_type": "code",
   "execution_count": 150,
   "id": "c198727b",
   "metadata": {},
   "outputs": [
    {
     "data": {
      "text/plain": [
       "'2011--10--29 20:30:21'"
      ]
     },
     "execution_count": 150,
     "metadata": {},
     "output_type": "execute_result"
    }
   ],
   "source": [
    "dt.strftime(\"%Y--%m--%d %H:%M:%S\")"
   ]
  },
  {
   "cell_type": "code",
   "execution_count": 151,
   "id": "4b7c78cc",
   "metadata": {},
   "outputs": [
    {
     "data": {
      "text/plain": [
       "datetime.datetime(2000, 7, 9, 0, 0)"
      ]
     },
     "execution_count": 151,
     "metadata": {},
     "output_type": "execute_result"
    }
   ],
   "source": [
    "datetime.strptime(\"20000709\",\"%Y%m%d\")"
   ]
  },
  {
   "cell_type": "markdown",
   "id": "95242fc6",
   "metadata": {},
   "source": [
    "### 控制流"
   ]
  },
  {
   "cell_type": "code",
   "execution_count": 152,
   "id": "878993ae",
   "metadata": {},
   "outputs": [
    {
     "name": "stdout",
     "output_type": "stream",
     "text": [
      "others\n"
     ]
    }
   ],
   "source": [
    "def Judgment_number(x):\n",
    "    if x < 0 :\n",
    "        print(\"it is nagetive\")\n",
    "    elif x == 0:\n",
    "        print(\"it is zero\")\n",
    "    elif 0 < x < 5 :\n",
    "        print(\"Positive but smaller than 5\")\n",
    "    else:\n",
    "        print(\"others\")\n",
    "\n",
    "Judgment_number(200)\n"
   ]
  },
  {
   "cell_type": "code",
   "execution_count": 153,
   "id": "062b686f",
   "metadata": {},
   "outputs": [
    {
     "data": {
      "text/plain": [
       "13"
      ]
     },
     "execution_count": 153,
     "metadata": {},
     "output_type": "execute_result"
    }
   ],
   "source": [
    "seq = [1,2,0,4,6,5,2,1]\n",
    "total_until_5 = 0\n",
    "for val in seq:\n",
    "    if val == 5:\n",
    "        break\n",
    "    total_until_5+=val\n",
    "\n",
    "total_until_5"
   ]
  },
  {
   "cell_type": "code",
   "execution_count": 154,
   "id": "a0d1f126",
   "metadata": {},
   "outputs": [
    {
     "name": "stdout",
     "output_type": "stream",
     "text": [
      "(0, 0)\n",
      "(1, 0)\n",
      "(1, 1)\n",
      "(2, 0)\n",
      "(2, 1)\n",
      "(2, 2)\n",
      "(3, 0)\n",
      "(3, 1)\n",
      "(3, 2)\n",
      "(3, 3)\n"
     ]
    }
   ],
   "source": [
    "for i in range(4):\n",
    "    for j in range(4):\n",
    "        if j > i:\n",
    "            break\n",
    "        print((i,j))"
   ]
  },
  {
   "cell_type": "code",
   "execution_count": 155,
   "id": "58f404cd",
   "metadata": {},
   "outputs": [
    {
     "data": {
      "text/plain": [
       "[0, 1, 2, 3, 4, 5, 6, 7, 8, 9]"
      ]
     },
     "execution_count": 155,
     "metadata": {},
     "output_type": "execute_result"
    }
   ],
   "source": [
    "list(range(10))"
   ]
  },
  {
   "cell_type": "code",
   "execution_count": 156,
   "id": "c0c8bd63",
   "metadata": {},
   "outputs": [
    {
     "data": {
      "text/plain": [
       "[0, 2, 4, 6, 8, 10, 12, 14, 16, 18]"
      ]
     },
     "execution_count": 156,
     "metadata": {},
     "output_type": "execute_result"
    }
   ],
   "source": [
    "list(range(0,20,2))"
   ]
  },
  {
   "cell_type": "code",
   "execution_count": 157,
   "id": "26bf0d34",
   "metadata": {},
   "outputs": [
    {
     "data": {
      "text/plain": [
       "[10, 7, 4, 1]"
      ]
     },
     "execution_count": 157,
     "metadata": {},
     "output_type": "execute_result"
    }
   ],
   "source": [
    "list(range(10,0,-3))"
   ]
  },
  {
   "cell_type": "code",
   "execution_count": 158,
   "id": "47f29e4e",
   "metadata": {},
   "outputs": [
    {
     "name": "stdout",
     "output_type": "stream",
     "text": [
      "element 0 : 1\n",
      "element 1 : 2\n",
      "element 2 : 3\n",
      "element 3 : 4\n",
      "element 4 : 5\n",
      "element 5 : 6\n"
     ]
    }
   ],
   "source": [
    "seq = [1,2,3,4,5,6]\n",
    "for i in range(len(seq)):\n",
    "    print(f\"element {i} : {seq[i]}\")"
   ]
  },
  {
   "cell_type": "code",
   "execution_count": 159,
   "id": "5a9a7f3e",
   "metadata": {},
   "outputs": [
    {
     "name": "stdout",
     "output_type": "stream",
     "text": [
      "2333316668\n"
     ]
    }
   ],
   "source": [
    "# 对 0 ~ 99999中所有3和5的倍数求和\n",
    "total = 0\n",
    "\n",
    "for i in range(100_000):\n",
    "    if i%3==0 or i%5==0:\n",
    "        total+=i\n",
    "print(total)"
   ]
  }
 ],
 "metadata": {
  "kernelspec": {
   "display_name": "Python 3 (ipykernel)",
   "language": "python",
   "name": "python3"
  },
  "language_info": {
   "codemirror_mode": {
    "name": "ipython",
    "version": 3
   },
   "file_extension": ".py",
   "mimetype": "text/x-python",
   "name": "python",
   "nbconvert_exporter": "python",
   "pygments_lexer": "ipython3",
   "version": "3.12.4"
  }
 },
 "nbformat": 4,
 "nbformat_minor": 5
}
